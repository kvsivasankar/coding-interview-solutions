{
 "cells": [
  {
   "cell_type": "markdown",
   "metadata": {},
   "source": [
    "# Most frequently occuring item in a list\n"
   ]
  },
  {
   "cell_type": "code",
   "execution_count": 12,
   "metadata": {},
   "outputs": [],
   "source": [
    "def most_frq_element(lst):\n",
    "    max_count = -1\n",
    "    max_element = None\n",
    "    count = {}\n",
    "    if(len(lst) == 0):\n",
    "        return \"List empty\"\n",
    "    else:\n",
    "        for element in lst:\n",
    "            if element in count:\n",
    "                count[element] += 1\n",
    "                if (count[element] > max_count):\n",
    "                    max_element = element\n",
    "                    max_count = count[element]\n",
    "            else:\n",
    "                count[element]=1\n",
    "        \n",
    "    print(\"max element: \"+ str(max_element))\n",
    "    print(\"max count: \"+ str(max_count))"
   ]
  },
  {
   "cell_type": "code",
   "execution_count": 21,
   "metadata": {},
   "outputs": [
    {
     "name": "stdout",
     "output_type": "stream",
     "text": [
      "max element: 2\n",
      "max count: 4\n"
     ]
    }
   ],
   "source": [
    "most_frq_element([1,2,3,3,2,1,1,2,2])"
   ]
  },
  {
   "cell_type": "code",
   "execution_count": 30,
   "metadata": {},
   "outputs": [
    {
     "name": "stdout",
     "output_type": "stream",
     "text": [
      "max element: -1\n",
      "max count: 5\n"
     ]
    }
   ],
   "source": [
    "most_frq_element([-1,2,3,3,2,-1,-1,-1,2,-1])"
   ]
  },
  {
   "cell_type": "code",
   "execution_count": null,
   "metadata": {},
   "outputs": [],
   "source": []
  },
  {
   "cell_type": "code",
   "execution_count": null,
   "metadata": {},
   "outputs": [],
   "source": []
  }
 ],
 "metadata": {
  "kernelspec": {
   "display_name": "Python 3",
   "language": "python",
   "name": "python3"
  },
  "language_info": {
   "codemirror_mode": {
    "name": "ipython",
    "version": 3
   },
   "file_extension": ".py",
   "mimetype": "text/x-python",
   "name": "python",
   "nbconvert_exporter": "python",
   "pygments_lexer": "ipython3",
   "version": "3.6.5"
  }
 },
 "nbformat": 4,
 "nbformat_minor": 2
}
