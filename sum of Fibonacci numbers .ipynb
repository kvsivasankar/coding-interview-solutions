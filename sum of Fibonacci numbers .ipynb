{
 "cells": [
  {
   "cell_type": "code",
   "execution_count": 1,
   "metadata": {},
   "outputs": [],
   "source": [
    "# fibonacci numbers\n",
    "# 1,2,3,5,8,13,21,---"
   ]
  },
  {
   "cell_type": "code",
   "execution_count": 2,
   "metadata": {},
   "outputs": [],
   "source": [
    "def fibonacci_series(number):\n",
    "    first = 1\n",
    "    second = 2\n",
    "    feb_series = [1,2]\n",
    "    sum_num = first+second\n",
    "    while (sum_num < number):\n",
    "        \n",
    "        feb_series.append(sum_num)\n",
    "        temp = first\n",
    "        first = second\n",
    "        second = temp+second\n",
    "        sum_num = first+second\n",
    "    return feb_series,sum(feb_series)"
   ]
  },
  {
   "cell_type": "code",
   "execution_count": 4,
   "metadata": {},
   "outputs": [
    {
     "data": {
      "text/plain": [
       "([1, 2, 3, 5, 8], 19)"
      ]
     },
     "execution_count": 4,
     "metadata": {},
     "output_type": "execute_result"
    }
   ],
   "source": [
    "fibonacci_series(10)"
   ]
  },
  {
   "cell_type": "code",
   "execution_count": 5,
   "metadata": {},
   "outputs": [],
   "source": [
    "# generate fibonacci numbers\n",
    "def feb_series2(number):\n",
    "    a = 1\n",
    "    b = 2\n",
    "    feb_series = [1]\n",
    "    while(b <= number):\n",
    "        feb_series.append(b)\n",
    "        temp = a;\n",
    "        a = b\n",
    "        b = temp+b\n",
    "    return feb_series  "
   ]
  },
  {
   "cell_type": "code",
   "execution_count": 6,
   "metadata": {},
   "outputs": [
    {
     "data": {
      "text/plain": [
       "[1, 2, 3, 5, 8]"
      ]
     },
     "execution_count": 6,
     "metadata": {},
     "output_type": "execute_result"
    }
   ],
   "source": [
    "feb_series2(10)"
   ]
  },
  {
   "cell_type": "code",
   "execution_count": null,
   "metadata": {},
   "outputs": [],
   "source": []
  }
 ],
 "metadata": {
  "kernelspec": {
   "display_name": "Python 3",
   "language": "python",
   "name": "python3"
  },
  "language_info": {
   "codemirror_mode": {
    "name": "ipython",
    "version": 3
   },
   "file_extension": ".py",
   "mimetype": "text/x-python",
   "name": "python",
   "nbconvert_exporter": "python",
   "pygments_lexer": "ipython3",
   "version": "3.6.5"
  }
 },
 "nbformat": 4,
 "nbformat_minor": 2
}
