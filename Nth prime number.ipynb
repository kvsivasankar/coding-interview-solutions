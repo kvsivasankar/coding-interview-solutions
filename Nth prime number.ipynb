{
 "cells": [
  {
   "cell_type": "code",
   "execution_count": 1,
   "metadata": {},
   "outputs": [],
   "source": [
    "# nth prime number\n",
    "# 2,3,5,7,11,13 - 13 is 6th prime"
   ]
  },
  {
   "cell_type": "code",
   "execution_count": 2,
   "metadata": {},
   "outputs": [],
   "source": [
    "def nth_prime(n):\n",
    "    primes = [2]\n",
    "    number = 3\n",
    "    while(len(primes) < n):\n",
    "        if(prime(number)):\n",
    "            primes.append(number)\n",
    "            print(primes)\n",
    "        number+=2\n",
    "            \n",
    "    print(primes.pop())"
   ]
  },
  {
   "cell_type": "code",
   "execution_count": 3,
   "metadata": {},
   "outputs": [],
   "source": [
    "def prime(num):\n",
    "    i = 2\n",
    "    while(i<num):\n",
    "        if(num % i == 0):\n",
    "            return False\n",
    "        else:\n",
    "            i+=1\n",
    "    return True"
   ]
  },
  {
   "cell_type": "code",
   "execution_count": 4,
   "metadata": {},
   "outputs": [
    {
     "name": "stdout",
     "output_type": "stream",
     "text": [
      "[2, 3]\n",
      "[2, 3, 5]\n",
      "[2, 3, 5, 7]\n",
      "[2, 3, 5, 7, 11]\n",
      "[2, 3, 5, 7, 11, 13]\n",
      "13\n"
     ]
    }
   ],
   "source": [
    "nth_prime(6)"
   ]
  },
  {
   "cell_type": "code",
   "execution_count": null,
   "metadata": {},
   "outputs": [],
   "source": []
  }
 ],
 "metadata": {
  "kernelspec": {
   "display_name": "Python 3",
   "language": "python",
   "name": "python3"
  },
  "language_info": {
   "codemirror_mode": {
    "name": "ipython",
    "version": 3
   },
   "file_extension": ".py",
   "mimetype": "text/x-python",
   "name": "python",
   "nbconvert_exporter": "python",
   "pygments_lexer": "ipython3",
   "version": "3.6.5"
  }
 },
 "nbformat": 4,
 "nbformat_minor": 2
}
